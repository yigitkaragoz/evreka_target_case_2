{
 "cells": [
  {
   "cell_type": "markdown",
   "metadata": {},
   "source": [
    "# Evreka Power BI Data Engineer Assessment Project\n",
    "\n",
    "This notebook provides a comprehensive analysis of waste bin fullness data for the Evreka Data Engineer Assessment. The analysis includes data loading, cleaning, transformations, and insights into daily waste levels, collection times, and spatial distribution of waste bins.\n",
    "\n",
    "---\n",
    "\n",
    "### Key Objectives\n",
    "1. **Data Preparation**: Clean and transform waste bin fullness data, capping overflow values and merging with location data.\n",
    "2. **Analysis**:\n",
    "   - **Daily Aggregation**: Calculate daily average fullness per bin location and waste type.\n",
    "   - **Peak Collection Times**: Identify common collection hours.\n",
    "   - **Geospatial Distribution**: Merge with latitude/longitude data for spatial analysis.\n",
    "\n",
    "3. **Findings and Insights**:\n",
    "   - **Daily Trends**: Observe trends in daily fullness levels.\n",
    "   - **Collection Frequency**: Identify peak collection times to optimize schedules.\n",
    "   - **Geospatial Analysis**: Determine areas with high waste bin utilization.\n",
    "\n"
   ]
  },
  {
   "cell_type": "markdown",
   "metadata": {},
   "source": [
    "### Data Loading"
   ]
  },
  {
   "cell_type": "code",
   "execution_count": null,
   "metadata": {},
   "outputs": [],
   "source": []
  },
  {
   "cell_type": "code",
   "execution_count": 18,
   "metadata": {},
   "outputs": [
    {
     "data": {
      "text/plain": [
       "(   Unnamed: 0   SPID            VisitDate  # Paper  % Paper  # Plastic  \\\n",
       " 0           0  15801  2019-01-01 08:09:50        3     1.00          2   \n",
       " 1           1  16160  2019-01-01 08:22:15        2     0.75          1   \n",
       " 2           2   9960  2019-01-01 08:29:48        2     1.00          0   \n",
       " 3           3  16135  2019-01-01 08:38:08        0     0.00          1   \n",
       " 4           4  16017  2019-01-01 08:42:03        3     0.75          2   \n",
       " \n",
       "    % Plastic  \n",
       " 0       0.75  \n",
       " 1       0.75  \n",
       " 2       0.00  \n",
       " 3       0.25  \n",
       " 4       0.62  ,\n",
       "    Unnamed: 0   SPID   Latitude  Longitude\n",
       " 0           0  10222  39.933667  32.861833\n",
       " 1           1  10374  39.923167  32.990167\n",
       " 2           2  10375  39.922333  32.958000\n",
       " 3           3  10377  39.917667  32.979167\n",
       " 4           4  10912  39.990333  33.111000)"
      ]
     },
     "execution_count": 18,
     "metadata": {},
     "output_type": "execute_result"
    }
   ],
   "source": [
    "import pandas as pd\n",
    "\n",
    "# Load the datasets\n",
    "waste_data = pd.read_csv('..\\data\\waste_data_timeseries\\waste_data_timeseries.csv')\n",
    "location_data = pd.read_csv('..\\data\\waste_data_timeseries\\location_data.csv')\n",
    "\n",
    "# Display first few rows of each dataset\n",
    "waste_data.head(), location_data.head()\n"
   ]
  },
  {
   "cell_type": "markdown",
   "metadata": {},
   "source": [
    "## Data Cleaning and Fullness Capping\n"
   ]
  },
  {
   "cell_type": "code",
   "execution_count": 19,
   "metadata": {},
   "outputs": [
    {
     "data": {
      "text/html": [
       "<div>\n",
       "<style scoped>\n",
       "    .dataframe tbody tr th:only-of-type {\n",
       "        vertical-align: middle;\n",
       "    }\n",
       "\n",
       "    .dataframe tbody tr th {\n",
       "        vertical-align: top;\n",
       "    }\n",
       "\n",
       "    .dataframe thead th {\n",
       "        text-align: right;\n",
       "    }\n",
       "</style>\n",
       "<table border=\"1\" class=\"dataframe\">\n",
       "  <thead>\n",
       "    <tr style=\"text-align: right;\">\n",
       "      <th></th>\n",
       "      <th>% Paper</th>\n",
       "      <th>% Plastic</th>\n",
       "      <th>% Paper_overflow</th>\n",
       "      <th>% Plastic_overflow</th>\n",
       "    </tr>\n",
       "  </thead>\n",
       "  <tbody>\n",
       "    <tr>\n",
       "      <th>0</th>\n",
       "      <td>1.00</td>\n",
       "      <td>0.75</td>\n",
       "      <td>False</td>\n",
       "      <td>False</td>\n",
       "    </tr>\n",
       "    <tr>\n",
       "      <th>1</th>\n",
       "      <td>0.75</td>\n",
       "      <td>0.75</td>\n",
       "      <td>False</td>\n",
       "      <td>False</td>\n",
       "    </tr>\n",
       "    <tr>\n",
       "      <th>2</th>\n",
       "      <td>1.00</td>\n",
       "      <td>0.00</td>\n",
       "      <td>False</td>\n",
       "      <td>False</td>\n",
       "    </tr>\n",
       "    <tr>\n",
       "      <th>3</th>\n",
       "      <td>0.00</td>\n",
       "      <td>0.25</td>\n",
       "      <td>False</td>\n",
       "      <td>False</td>\n",
       "    </tr>\n",
       "    <tr>\n",
       "      <th>4</th>\n",
       "      <td>0.75</td>\n",
       "      <td>0.62</td>\n",
       "      <td>False</td>\n",
       "      <td>False</td>\n",
       "    </tr>\n",
       "  </tbody>\n",
       "</table>\n",
       "</div>"
      ],
      "text/plain": [
       "   % Paper  % Plastic  % Paper_overflow  % Plastic_overflow\n",
       "0     1.00       0.75             False               False\n",
       "1     0.75       0.75             False               False\n",
       "2     1.00       0.00             False               False\n",
       "3     0.00       0.25             False               False\n",
       "4     0.75       0.62             False               False"
      ]
     },
     "execution_count": 19,
     "metadata": {},
     "output_type": "execute_result"
    }
   ],
   "source": [
    "# Convert 'VisitDate' to datetime format\n",
    "waste_data['VisitDate'] = pd.to_datetime(waste_data['VisitDate'])\n",
    "\n",
    "# Clip fullness values at 100% and identify overflow cases\n",
    "fullness_columns = [col for col in waste_data.columns if col.startswith('%')]\n",
    "for col in fullness_columns:\n",
    "    waste_data[f\"{col}_overflow\"] = waste_data[col] > 100\n",
    "    waste_data[col] = waste_data[col].clip(upper=100)\n",
    "\n",
    "# Show cleaned data\n",
    "waste_data[fullness_columns + [f\"{col}_overflow\" for col in fullness_columns]].head()\n",
    "\n"
   ]
  },
  {
   "cell_type": "markdown",
   "metadata": {},
   "source": [
    "## Daily Aggregation\n"
   ]
  },
  {
   "cell_type": "code",
   "execution_count": 20,
   "metadata": {},
   "outputs": [
    {
     "name": "stdout",
     "output_type": "stream",
     "text": [
      "daily_avg_fullness.csv saved successfully.\n"
     ]
    },
    {
     "data": {
      "text/html": [
       "<div>\n",
       "<style scoped>\n",
       "    .dataframe tbody tr th:only-of-type {\n",
       "        vertical-align: middle;\n",
       "    }\n",
       "\n",
       "    .dataframe tbody tr th {\n",
       "        vertical-align: top;\n",
       "    }\n",
       "\n",
       "    .dataframe thead th {\n",
       "        text-align: right;\n",
       "    }\n",
       "</style>\n",
       "<table border=\"1\" class=\"dataframe\">\n",
       "  <thead>\n",
       "    <tr style=\"text-align: right;\">\n",
       "      <th></th>\n",
       "      <th>SPID</th>\n",
       "      <th>date</th>\n",
       "      <th>% Paper</th>\n",
       "      <th>% Plastic</th>\n",
       "    </tr>\n",
       "  </thead>\n",
       "  <tbody>\n",
       "    <tr>\n",
       "      <th>0</th>\n",
       "      <td>7444</td>\n",
       "      <td>2019-01-01</td>\n",
       "      <td>1.000000</td>\n",
       "      <td>0.000000</td>\n",
       "    </tr>\n",
       "    <tr>\n",
       "      <th>1</th>\n",
       "      <td>7444</td>\n",
       "      <td>2019-01-02</td>\n",
       "      <td>0.416667</td>\n",
       "      <td>0.333333</td>\n",
       "    </tr>\n",
       "    <tr>\n",
       "      <th>2</th>\n",
       "      <td>7444</td>\n",
       "      <td>2019-01-03</td>\n",
       "      <td>0.500000</td>\n",
       "      <td>0.375000</td>\n",
       "    </tr>\n",
       "    <tr>\n",
       "      <th>3</th>\n",
       "      <td>7444</td>\n",
       "      <td>2019-01-04</td>\n",
       "      <td>0.500000</td>\n",
       "      <td>0.126667</td>\n",
       "    </tr>\n",
       "    <tr>\n",
       "      <th>4</th>\n",
       "      <td>7444</td>\n",
       "      <td>2019-01-05</td>\n",
       "      <td>0.666667</td>\n",
       "      <td>0.233333</td>\n",
       "    </tr>\n",
       "  </tbody>\n",
       "</table>\n",
       "</div>"
      ],
      "text/plain": [
       "   SPID        date   % Paper  % Plastic\n",
       "0  7444  2019-01-01  1.000000   0.000000\n",
       "1  7444  2019-01-02  0.416667   0.333333\n",
       "2  7444  2019-01-03  0.500000   0.375000\n",
       "3  7444  2019-01-04  0.500000   0.126667\n",
       "4  7444  2019-01-05  0.666667   0.233333"
      ]
     },
     "execution_count": 20,
     "metadata": {},
     "output_type": "execute_result"
    }
   ],
   "source": [
    "# Extract date from VisitDate for daily aggregation\n",
    "waste_data['date'] = waste_data['VisitDate'].dt.date\n",
    "\n",
    "# Calculate daily average fullness per location\n",
    "daily_avg_fullness = waste_data.groupby(['SPID', 'date'])[fullness_columns].mean().reset_index()\n",
    "\n",
    "# Save daily average fullness data to CSV\n",
    "daily_avg_fullness.to_csv('..\\data\\output_pbi\\daily_avg_fullness.csv', index=False, sep=',', decimal=',')\n",
    "print(\"daily_avg_fullness.csv saved successfully.\")\n",
    "\n",
    "# Display daily aggregated data\n",
    "daily_avg_fullness.head()\n",
    "\n"
   ]
  },
  {
   "cell_type": "markdown",
   "metadata": {},
   "source": [
    "## Peak Collection Times\n"
   ]
  },
  {
   "cell_type": "code",
   "execution_count": 21,
   "metadata": {},
   "outputs": [
    {
     "name": "stdout",
     "output_type": "stream",
     "text": [
      "peak_collection_times.csv saved successfully.\n"
     ]
    },
    {
     "data": {
      "text/html": [
       "<div>\n",
       "<style scoped>\n",
       "    .dataframe tbody tr th:only-of-type {\n",
       "        vertical-align: middle;\n",
       "    }\n",
       "\n",
       "    .dataframe tbody tr th {\n",
       "        vertical-align: top;\n",
       "    }\n",
       "\n",
       "    .dataframe thead th {\n",
       "        text-align: right;\n",
       "    }\n",
       "</style>\n",
       "<table border=\"1\" class=\"dataframe\">\n",
       "  <thead>\n",
       "    <tr style=\"text-align: right;\">\n",
       "      <th></th>\n",
       "      <th>SPID</th>\n",
       "      <th>hour</th>\n",
       "      <th>visit_count</th>\n",
       "    </tr>\n",
       "  </thead>\n",
       "  <tbody>\n",
       "    <tr>\n",
       "      <th>0</th>\n",
       "      <td>7444</td>\n",
       "      <td>7</td>\n",
       "      <td>14</td>\n",
       "    </tr>\n",
       "    <tr>\n",
       "      <th>1</th>\n",
       "      <td>7444</td>\n",
       "      <td>8</td>\n",
       "      <td>22</td>\n",
       "    </tr>\n",
       "    <tr>\n",
       "      <th>2</th>\n",
       "      <td>7444</td>\n",
       "      <td>9</td>\n",
       "      <td>49</td>\n",
       "    </tr>\n",
       "    <tr>\n",
       "      <th>3</th>\n",
       "      <td>7444</td>\n",
       "      <td>10</td>\n",
       "      <td>168</td>\n",
       "    </tr>\n",
       "    <tr>\n",
       "      <th>4</th>\n",
       "      <td>7444</td>\n",
       "      <td>11</td>\n",
       "      <td>187</td>\n",
       "    </tr>\n",
       "  </tbody>\n",
       "</table>\n",
       "</div>"
      ],
      "text/plain": [
       "   SPID  hour  visit_count\n",
       "0  7444     7           14\n",
       "1  7444     8           22\n",
       "2  7444     9           49\n",
       "3  7444    10          168\n",
       "4  7444    11          187"
      ]
     },
     "execution_count": 21,
     "metadata": {},
     "output_type": "execute_result"
    }
   ],
   "source": [
    "# Extract hour for analysis of collection times\n",
    "waste_data['hour'] = waste_data['VisitDate'].dt.hour\n",
    "\n",
    "# Count visits by hour to find peak collection times\n",
    "peak_collection_times = waste_data.groupby(['SPID', 'hour']).size().reset_index(name='visit_count')\n",
    "\n",
    "# Save peak collection times data to CSV\n",
    "peak_collection_times.to_csv('..\\data\\output_pbi\\peak_collection_times.csv', index=False, sep=',', decimal=',')\n",
    "print(\"peak_collection_times.csv saved successfully.\")\n",
    "\n",
    "# Display peak collection times\n",
    "peak_collection_times.head()\n",
    "\n"
   ]
  },
  {
   "cell_type": "markdown",
   "metadata": {},
   "source": [
    "## Geospatial Analysis\n"
   ]
  },
  {
   "cell_type": "code",
   "execution_count": 22,
   "metadata": {},
   "outputs": [
    {
     "name": "stdout",
     "output_type": "stream",
     "text": [
      "location_fullness.csv saved successfully.\n"
     ]
    },
    {
     "data": {
      "text/html": [
       "<div>\n",
       "<style scoped>\n",
       "    .dataframe tbody tr th:only-of-type {\n",
       "        vertical-align: middle;\n",
       "    }\n",
       "\n",
       "    .dataframe tbody tr th {\n",
       "        vertical-align: top;\n",
       "    }\n",
       "\n",
       "    .dataframe thead th {\n",
       "        text-align: right;\n",
       "    }\n",
       "</style>\n",
       "<table border=\"1\" class=\"dataframe\">\n",
       "  <thead>\n",
       "    <tr style=\"text-align: right;\">\n",
       "      <th></th>\n",
       "      <th>SPID</th>\n",
       "      <th>date</th>\n",
       "      <th>% Paper</th>\n",
       "      <th>% Plastic</th>\n",
       "      <th>Latitude</th>\n",
       "      <th>Longitude</th>\n",
       "    </tr>\n",
       "  </thead>\n",
       "  <tbody>\n",
       "    <tr>\n",
       "      <th>0</th>\n",
       "      <td>7444</td>\n",
       "      <td>2019-01-01</td>\n",
       "      <td>1.000000</td>\n",
       "      <td>0.000000</td>\n",
       "      <td>39.941</td>\n",
       "      <td>33.056167</td>\n",
       "    </tr>\n",
       "    <tr>\n",
       "      <th>1</th>\n",
       "      <td>7444</td>\n",
       "      <td>2019-01-02</td>\n",
       "      <td>0.416667</td>\n",
       "      <td>0.333333</td>\n",
       "      <td>39.941</td>\n",
       "      <td>33.056167</td>\n",
       "    </tr>\n",
       "    <tr>\n",
       "      <th>2</th>\n",
       "      <td>7444</td>\n",
       "      <td>2019-01-03</td>\n",
       "      <td>0.500000</td>\n",
       "      <td>0.375000</td>\n",
       "      <td>39.941</td>\n",
       "      <td>33.056167</td>\n",
       "    </tr>\n",
       "    <tr>\n",
       "      <th>3</th>\n",
       "      <td>7444</td>\n",
       "      <td>2019-01-04</td>\n",
       "      <td>0.500000</td>\n",
       "      <td>0.126667</td>\n",
       "      <td>39.941</td>\n",
       "      <td>33.056167</td>\n",
       "    </tr>\n",
       "    <tr>\n",
       "      <th>4</th>\n",
       "      <td>7444</td>\n",
       "      <td>2019-01-05</td>\n",
       "      <td>0.666667</td>\n",
       "      <td>0.233333</td>\n",
       "      <td>39.941</td>\n",
       "      <td>33.056167</td>\n",
       "    </tr>\n",
       "  </tbody>\n",
       "</table>\n",
       "</div>"
      ],
      "text/plain": [
       "   SPID        date   % Paper  % Plastic  Latitude  Longitude\n",
       "0  7444  2019-01-01  1.000000   0.000000    39.941  33.056167\n",
       "1  7444  2019-01-02  0.416667   0.333333    39.941  33.056167\n",
       "2  7444  2019-01-03  0.500000   0.375000    39.941  33.056167\n",
       "3  7444  2019-01-04  0.500000   0.126667    39.941  33.056167\n",
       "4  7444  2019-01-05  0.666667   0.233333    39.941  33.056167"
      ]
     },
     "execution_count": 22,
     "metadata": {},
     "output_type": "execute_result"
    }
   ],
   "source": [
    "# Merge daily average fullness with location data\n",
    "location_fullness = pd.merge(daily_avg_fullness, location_data[['SPID', 'Latitude', 'Longitude']], on='SPID', how='left')\n",
    "\n",
    "# Save location fullness data to CSV\n",
    "location_fullness.to_csv('..\\data\\output_pbi\\location_fullness.csv', index=False, sep=',', decimal=',')\n",
    "print(\"location_fullness.csv saved successfully.\")\n",
    "\n",
    "# Display merged data\n",
    "location_fullness.head()\n"
   ]
  },
  {
   "cell_type": "markdown",
   "metadata": {},
   "source": [
    "## Insights and Findings\n",
    "\n",
    "### Key Insights\n",
    "1. **Daily Waste Trends**: Daily averages show fluctuations in waste bin fullness levels, indicating peak days for waste collection.\n",
    "2. **Collection Frequency**: Peak collection times are identified based on the `hour` column, helping optimize scheduling.\n",
    "3. **Geospatial Patterns**: Geospatial data highlights areas with higher fullness levels, which may require more frequent collection services.\n",
    "\n",
    "### Next Steps for Power BI Visualization\n",
    "The following files can be used for Power BI integration to create interactive visuals:\n",
    "- **`daily_avg_fullness.csv`**: For daily waste trends by location.\n",
    "- **`peak_collection_times.csv`**: To analyze collection times.\n",
    "- **`location_fullness.csv`**: For geospatial analysis and heatmap visualization.\n",
    "\n"
   ]
  }
 ],
 "metadata": {
  "kernelspec": {
   "display_name": "Python 3",
   "language": "python",
   "name": "python3"
  },
  "language_info": {
   "codemirror_mode": {
    "name": "ipython",
    "version": 3
   },
   "file_extension": ".py",
   "mimetype": "text/x-python",
   "name": "python",
   "nbconvert_exporter": "python",
   "pygments_lexer": "ipython3",
   "version": "3.11.9"
  }
 },
 "nbformat": 4,
 "nbformat_minor": 2
}
